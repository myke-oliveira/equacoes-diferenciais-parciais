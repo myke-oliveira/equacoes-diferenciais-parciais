{
 "cells": [
  {
   "cell_type": "markdown",
   "metadata": {},
   "source": [
    "# EDP - Equações Diferenciais Parciais\n",
    "\n",
    "Vamos iniciar esse estudo de equações diferenciais parciais apresentado de maneira conceitual as três equações diferenciais parciais clássicas que modelam problemas físicos de transferência de calor e onda, posteriormente vamos procurar resolver vários exemplos de cada uma destas equações, procurando iniciar mais simples\n",
    "\n",
    "## Equação Diferencial de Laplace\n",
    "\n",
    "$$\n",
    "\\nabla^2 u = 0\n",
    "$$\n",
    "\n",
    "## Equação Diferencial de Transferência de Calor\n",
    "\n",
    "$$\n",
    "\\nabla^2 u = \\frac{du}{dt}\n",
    "$$\n",
    "\n",
    "## Equação Diferencial da Onda\n",
    "\n",
    "$$\n",
    "\\nabla^2 u = \\frac{d^2u}{dt^2}\n",
    "$$"
   ]
  },
  {
   "cell_type": "markdown",
   "metadata": {},
   "source": [
    "# Exemplos com uma dimensão espacial e uma dimensão temporal\n",
    "\n",
    "## Equação Diferencial de Laplace\n",
    "\n",
    "Dada uma barra metálica, isolada ao redor e aberta nas extremidades que são mantidas a temperatura de $ u_0 °C $ e $ u_L °C $, em regime permanente, qual é a função que expressa a temperatura do ponto material da barra em função da cota?\n",
    "\n",
    "$$\n",
    "\\frac{d^2 u}{dx^2} = 0\n",
    "$$\n",
    "\n",
    "$$\n",
    "CC:\n",
    "\\begin{cases}\n",
    "u(0) = u_0 \\\\\n",
    "u(L) = u_L\n",
    "\\end{cases}\n",
    "$$\n",
    "\n",
    "$$\n",
    "\\frac{d^ u}{dx} = A\n",
    "$$\n",
    "\n",
    "Solução geral:\n",
    "\n",
    "$$\n",
    "u(x) = Ax + B\n",
    "$$\n",
    "\n",
    "Aplicando as condições de contorno:\n",
    "\n",
    "$$\n",
    "u(0) = B = u_0 \\quad \\rightarrow \\quad B = u_0\n",
    "$$\n",
    "\n",
    "$$\n",
    "u(L) = AL + u_0 = u_L \\quad \\rightarrow \\quad A = \\frac{u_L - u_0}{L}\n",
    "$$\n",
    "\n",
    "Solução do problema de contorno:\n",
    "\n",
    "$$\n",
    "u(x) = \\frac{u_L - u_0}{L} \\cdot x + u_0\n",
    "$$"
   ]
  },
  {
   "cell_type": "markdown",
   "metadata": {},
   "source": [
    "### Resultado Simulado"
   ]
  },
  {
   "cell_type": "code",
   "execution_count": 3,
   "metadata": {},
   "outputs": [
    {
     "data": {
      "application/vnd.jupyter.widget-view+json": {
       "model_id": "17f239da09af4f2586a80e0a7d6da048",
       "version_major": 2,
       "version_minor": 0
      },
      "text/plain": [
       "interactive(children=(FloatSlider(value=0.0, description='u0', max=10.0, min=-10.0), FloatSlider(value=0.0, de…"
      ]
     },
     "metadata": {},
     "output_type": "display_data"
    }
   ],
   "source": [
    "from ipywidgets import interactive\n",
    "import matplotlib.pyplot as plt\n",
    "import numpy as np\n",
    "\n",
    "def f(u0, uL, L):\n",
    "    plt.figure(2)\n",
    "    A = (uL - u0) / L\n",
    "    B = u0\n",
    "    x = np.linspace(0, L)\n",
    "    u = A*x + B\n",
    "    plt.plot(x, u)\n",
    "    plt.grid(which='both')\n",
    "    plt.title('Temperatura na Barra')\n",
    "    plt.xlabel('Cota (mm)')\n",
    "    plt.ylabel('Temperatura (°C)')\n",
    "    plt.show()\n",
    "\n",
    "interactive_plot = interactive(f, u0=(-10., 10., .1), uL=(-10., 10., .1), L=(0, 100))\n",
    "output = interactive_plot.children[-1]\n",
    "output.layout.height = '350px'\n",
    "interactive_plot"
   ]
  },
  {
   "cell_type": "markdown",
   "metadata": {},
   "source": [
    "## Equação Diferencial de Transferência de Calor\n",
    "\n",
    "Agora vamos assumir a mesma barra anterior, porém durante o transiente, ou seja, daremos uma distribuição de temperatura inicial $ f(x) $.\n",
    "\n",
    "$$\n",
    "\\frac{\\partial^2 u}{\\partial^2 x} = \\alpha \\frac{du}{dt}\n",
    "$$\n",
    "\n",
    "$$\n",
    "CC:\n",
    "\\begin{cases}\n",
    "u(0, t) = u_0 \\\\\n",
    "u(L, t) = u_L \\\\\n",
    "u(x, t) = f(x)\n",
    "\\end{cases}\n",
    "$$"
   ]
  },
  {
   "cell_type": "markdown",
   "metadata": {},
   "source": [
    "Vamos tentar uma solução da forma produto de funções de $ x $ e $ t $ separadas:\n",
    "\n",
    "$$\n",
    "u(x, t) = X(x) \\cdot T(t)\n",
    "$$\n",
    "\n",
    "Aplicando na EDP, tem-se\n",
    "\n",
    "$$\n",
    "X''(x) \\cdot T(t) = \\alpha X(x) \\cdot T'(t)\n",
    "$$\n",
    "\n",
    "$$\n",
    "\\frac{X''(x)}{X(x)} = \\alpha \\frac{T'(t)}{T(t)}\n",
    "$$\n",
    "\n",
    "$$\n",
    "\\begin{cases}\n",
    "\\frac{X''(x)}{X(x)} = \\lambda \\\\\n",
    "\\frac{T'(t)}{T(t)} = \\frac{\\lambda}{\\alpha}\n",
    "\\end{cases}\n",
    "$$\n",
    "\n",
    "$$\n",
    "\\begin{cases}\n",
    "X''(x) - \\lambda X(x) = 0 \\\\\n",
    "T'(t) - \\frac{\\lambda}{\\alpha} T(t) = 0\n",
    "\\end{cases}\n",
    "$$"
   ]
  },
  {
   "cell_type": "markdown",
   "metadata": {},
   "source": [
    "Para $ \\lambda \\ge 0 $, tem-se:\n",
    "\n",
    "$$\n",
    "X(x) = A e^{\\sqrt{\\lambda}x} + B e^{-\\sqrt{\\lambda}x}\n",
    "$$\n",
    "\n",
    "$$\n",
    "T(t) = C e^{\\frac{\\lambda}{\\alpha} t}\n",
    "$$\n",
    "\n",
    "Solução Geral:\n",
    "\n",
    "$$\n",
    "u(x, t) = \\left[ A e^{\\sqrt{\\lambda}x} + B e^{-\\sqrt{\\lambda}x} \\right] C e^{\\frac{\\lambda}{\\alpha} t}\n",
    "$$\n",
    "\n",
    "Aplicando as condições de contorno:\n",
    "\n",
    "$$\n",
    "u(0, t) = \\left[ A e^{\\sqrt{\\lambda}x} + B e^{-\\sqrt{\\lambda}x} \\right] C e^{\\frac{\\lambda}{\\alpha} t} = u_0\n",
    "$$\n",
    "\n",
    "Como $ u_0 $ é uma constante, faz-se necessário $ C = 0 $, tempos que esse caso só representa a solução trivial $ u(x, t) = 0 $."
   ]
  },
  {
   "cell_type": "markdown",
   "metadata": {},
   "source": [
    "Para $ \\lambda < 0 $, tem-se:\n",
    "\n",
    "$$\n",
    "X(x) = A' \\cos {\\sqrt{-\\lambda}x} + B' \\sin {\\sqrt{-\\lambda}x}\n",
    "$$\n",
    "\n",
    "$$\n",
    "T(t) = C e^{\\frac{\\lambda}{\\alpha} t}\n",
    "$$\n",
    "\n",
    "Solução Geral:\n",
    "\n",
    "$$\n",
    "u(x, t) = \\left[ A \\cos {\\sqrt{-\\lambda}x} + B \\sin {\\sqrt{-\\lambda}x} \\right] \\cdot e^{\\frac{\\lambda}{\\alpha} t}\n",
    "$$\n",
    "\n",
    "Aplicando as condições de contorno:\n",
    "\n",
    "$$\n",
    "u(0, t) = \\left[ A \\cos \\left( \\sqrt{-\\lambda} \\cdot 0 \\right) + B \\sin \\left( \\sqrt{-\\lambda} \\cdot 0 \\right) \\right] \\cdot e^{\\frac{\\lambda}{\\alpha} t} = u_0\n",
    "$$\n",
    "\n",
    "$$\n",
    "u(0, t) = A e^{\\frac{\\lambda}{\\alpha} t} = u_0\n",
    "$$\n",
    "\n",
    "$$\n",
    "u(L, t) = \\left[ A \\cos \\left( \\sqrt{-\\lambda} \\cdot L \\right) + B \\sin \\left( \\sqrt{-\\lambda} \\cdot L \\right) \\right] \\cdot C e^{\\frac{\\lambda}{\\alpha} t} = u_0\n",
    "$$"
   ]
  },
  {
   "cell_type": "code",
   "execution_count": null,
   "metadata": {},
   "outputs": [],
   "source": []
  }
 ],
 "metadata": {
  "kernelspec": {
   "display_name": "Python 3.8.2 64-bit",
   "language": "python",
   "name": "python38264bitdff68fc3b3db407ba03b8191b42889a7"
  },
  "language_info": {
   "codemirror_mode": {
    "name": "ipython",
    "version": 3
   },
   "file_extension": ".py",
   "mimetype": "text/x-python",
   "name": "python",
   "nbconvert_exporter": "python",
   "pygments_lexer": "ipython3",
   "version": "3.8.5"
  }
 },
 "nbformat": 4,
 "nbformat_minor": 4
}

{
 "cells": [
  {
   "cell_type": "markdown",
   "metadata": {},
   "source": [
    "# Projeto de Estudos EDP"
   ]
  },
  {
   "cell_type": "code",
   "execution_count": null,
   "metadata": {},
   "outputs": [],
   "source": [
    "import numpy as np\n",
    "import matplotlib.pyplot as plt\n",
    "\n",
    "M = 300\n",
    "\n",
    "L = 10\n",
    "A = 1\n",
    "\n",
    "x=np.linspace(0, L, 300)\n",
    "fs = [4/(n*np.pi)*np.sin(n*np.pi/2)*np.sin(n*np.pi/L)*np.sin(n*np.pi/L*x) for n in range(1, M)]"
   ]
  },
  {
   "cell_type": "code",
   "execution_count": null,
   "metadata": {},
   "outputs": [],
   "source": [
    "\n",
    "plt.figure(figsize=(20,16))\n",
    "for f in fs:\n",
    "    plt.plot(x, f)\n",
    "plt.grid()\n",
    "plt.show()"
   ]
  },
  {
   "cell_type": "code",
   "execution_count": null,
   "metadata": {},
   "outputs": [],
   "source": [
    "from functools import reduce\n",
    "\n",
    "f = reduce(lambda x, y: x + y, fs)\n",
    "plt.figure(figsize=(20, 16))\n",
    "plt.plot(x, f)\n",
    "plt.grid()\n",
    "plt.show()"
   ]
  },
  {
   "cell_type": "code",
   "execution_count": null,
   "metadata": {},
   "outputs": [],
   "source": [
    "plt.figure(figsize=(20, 16))\n",
    "for t in np.linspace(0, 2*np.pi*L, 20):\n",
    "    us = [\n",
    "        4/(n*np.pi)*np.sin(n*np.pi/2)*np.sin(n*np.pi/L)*np.sin(n*np.pi/L*x)*np.cos(A*n*np.pi*t/L)\n",
    "        for n in range(1, M)\n",
    "    ]\n",
    "    u = reduce(lambda x, y: x + y, us)\n",
    "    tone = t/(2*np.pi*L)\n",
    "    plt.plot(x, u, label=f't= {t} s', color=(tone, tone, tone))\n",
    "plt.legend()\n",
    "plt.grid()\n",
    "plt.show()"
   ]
  },
  {
   "cell_type": "code",
   "execution_count": null,
   "metadata": {},
   "outputs": [],
   "source": [
    "for i, t in enumerate(np.linspace(0, 2*np.pi*L, int(2*np.pi*L*60))):\n",
    "    us = [\n",
    "        4/(n*np.pi)*np.sin(n*np.pi/2)*np.sin(n*np.pi/L)*np.sin(n*np.pi/L*x)*np.cos(A*n*np.pi*t/L)\n",
    "        for n in range(1, M)\n",
    "    ]\n",
    "    u = reduce(lambda x, y: x + y, us)\n",
    "    plt.figure(figsize=(20, 16))\n",
    "    plt.plot(x, u, label=f't= {t} s')\n",
    "    plt.ylim(-1.1, 1.1)\n",
    "    plt.grid()\n",
    "    plt.savefig(f'img/onda-{i}.png')"
   ]
  },
  {
   "cell_type": "code",
   "execution_count": null,
   "metadata": {},
   "outputs": [],
   "source": []
  }
 ],
 "metadata": {
  "kernelspec": {
   "display_name": "Python 3.8.2 64-bit",
   "language": "python",
   "name": "python38264bitdff68fc3b3db407ba03b8191b42889a7"
  },
  "language_info": {
   "codemirror_mode": {
    "name": "ipython",
    "version": 3
   },
   "file_extension": ".py",
   "mimetype": "text/x-python",
   "name": "python",
   "nbconvert_exporter": "python",
   "pygments_lexer": "ipython3",
   "version": "3.8.5"
  }
 },
 "nbformat": 4,
 "nbformat_minor": 4
}
